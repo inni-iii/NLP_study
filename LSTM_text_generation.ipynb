{
  "nbformat": 4,
  "nbformat_minor": 0,
  "metadata": {
    "colab": {
      "name": "LSTM_text_generation.ipynb",
      "provenance": []
    },
    "kernelspec": {
      "name": "python3",
      "display_name": "Python 3"
    },
    "language_info": {
      "name": "python"
    }
  },
  "cells": [
    {
      "cell_type": "code",
      "execution_count": 2,
      "metadata": {
        "id": "gBSm-yrbf2OG"
      },
      "outputs": [],
      "source": [
        "import os\n",
        "\n",
        "# 개인정보 입력\n",
        "os.environ['KAGGLE_USERNAME'] = ''\n",
        "os.environ['KAGGLE_KEY'] = ''"
      ]
    },
    {
      "cell_type": "code",
      "source": [
        "!kaggle -h"
      ],
      "metadata": {
        "colab": {
          "base_uri": "https://localhost:8080/"
        },
        "id": "hlmA6Egqf_m_",
        "outputId": "ed54ac5f-f807-423c-b576-4c4108044dfa"
      },
      "execution_count": 3,
      "outputs": [
        {
          "output_type": "stream",
          "name": "stdout",
          "text": [
            "usage: kaggle [-h] [-v] {competitions,c,datasets,d,kernels,k,config} ...\n",
            "\n",
            "optional arguments:\n",
            "  -h, --help            show this help message and exit\n",
            "  -v, --version         show program's version number and exit\n",
            "\n",
            "commands:\n",
            "  {competitions,c,datasets,d,kernels,k,config}\n",
            "                        Use one of:\n",
            "                        competitions {list, files, download, submit, submissions, leaderboard}\n",
            "                        datasets {list, files, download, create, version, init, metadata, status}\n",
            "                        config {view, set, unset}\n",
            "    competitions (c)    Commands related to Kaggle competitions\n",
            "    datasets (d)        Commands related to Kaggle datasets\n",
            "    kernels (k)         Commands related to Kaggle kernels\n",
            "    config              Configuration settings\n"
          ]
        }
      ]
    },
    {
      "cell_type": "code",
      "source": [
        "!kaggle datasets download -d aashita/nyt-comments\n",
        "!unzip '*.zip'"
      ],
      "metadata": {
        "colab": {
          "base_uri": "https://localhost:8080/"
        },
        "id": "TXI7VEGUgAiy",
        "outputId": "1079bff7-8f74-4611-8ca8-195c3c7b9124"
      },
      "execution_count": 4,
      "outputs": [
        {
          "output_type": "stream",
          "name": "stdout",
          "text": [
            "Downloading nyt-comments.zip to /content\n",
            " 95% 457M/480M [00:06<00:00, 111MB/s]\n",
            "100% 480M/480M [00:06<00:00, 79.9MB/s]\n",
            "Archive:  nyt-comments.zip\n",
            "  inflating: ArticlesApril2017.csv   \n",
            "  inflating: ArticlesApril2018.csv   \n",
            "  inflating: ArticlesFeb2017.csv     \n",
            "  inflating: ArticlesFeb2018.csv     \n",
            "  inflating: ArticlesJan2017.csv     \n",
            "  inflating: ArticlesJan2018.csv     \n",
            "  inflating: ArticlesMarch2017.csv   \n",
            "  inflating: ArticlesMarch2018.csv   \n",
            "  inflating: ArticlesMay2017.csv     \n",
            "  inflating: CommentsApril2017.csv   \n",
            "  inflating: CommentsApril2018.csv   \n",
            "  inflating: CommentsFeb2017.csv     \n",
            "  inflating: CommentsFeb2018.csv     \n",
            "  inflating: CommentsJan2017.csv     \n",
            "  inflating: CommentsJan2018.csv     \n",
            "  inflating: CommentsMarch2017.csv   \n",
            "  inflating: CommentsMarch2018.csv   \n",
            "  inflating: CommentsMay2017.csv     \n"
          ]
        }
      ]
    },
    {
      "cell_type": "code",
      "source": [
        "import pandas as pd\n",
        "import numpy as np\n",
        "from string import punctuation\n",
        "\n",
        "from tensorflow.keras.preprocessing.text import Tokenizer\n",
        "from tensorflow.keras.preprocessing.sequence import pad_sequences\n",
        "from tensorflow.keras.utils import to_categorical"
      ],
      "metadata": {
        "id": "5-CrtJ_JgLR7"
      },
      "execution_count": 5,
      "outputs": []
    },
    {
      "cell_type": "code",
      "source": [
        "df = pd.read_csv('ArticlesApril2018.csv')\n",
        "df.head()"
      ],
      "metadata": {
        "colab": {
          "base_uri": "https://localhost:8080/",
          "height": 704
        },
        "id": "SREbp_yYgMSz",
        "outputId": "9abb0366-ad4a-4a21-d67a-57d6ae1ebeb1"
      },
      "execution_count": 6,
      "outputs": [
        {
          "output_type": "execute_result",
          "data": {
            "text/plain": [
              "                  articleID  articleWordCount  \\\n",
              "0  5adf6684068401528a2aa69b               781   \n",
              "1  5adf653f068401528a2aa697               656   \n",
              "2  5adf4626068401528a2aa628              2427   \n",
              "3  5adf40d2068401528a2aa619               626   \n",
              "4  5adf3d64068401528a2aa60f               815   \n",
              "\n",
              "                                      byline documentType  \\\n",
              "0                             By JOHN BRANCH      article   \n",
              "1                           By LISA FRIEDMAN      article   \n",
              "2                              By PETE WELLS      article   \n",
              "3  By JULIE HIRSCHFELD DAVIS and PETER BAKER      article   \n",
              "4             By IAN AUSTEN and DAN BILEFSKY      article   \n",
              "\n",
              "                                            headline  \\\n",
              "0  Former N.F.L. Cheerleaders’ Settlement Offer: ...   \n",
              "1  E.P.A. to Unveil a New Rule. Its Effect: Less ...   \n",
              "2                            The New Noma, Explained   \n",
              "3                                            Unknown   \n",
              "4                                            Unknown   \n",
              "\n",
              "                                            keywords  multimedia     newDesk  \\\n",
              "0  ['Workplace Hazards and Violations', 'Football...          68      Sports   \n",
              "1  ['Environmental Protection Agency', 'Pruitt, S...          68     Climate   \n",
              "2  ['Restaurants', 'Noma (Copenhagen, Restaurant)...          66      Dining   \n",
              "3  ['Macron, Emmanuel (1977- )', 'Trump, Donald J...          68  Washington   \n",
              "4  ['Toronto, Ontario, Attack (April, 2018)', 'Mu...          68     Foreign   \n",
              "\n",
              "   printPage              pubDate   sectionName  \\\n",
              "0          0  2018-04-24 17:16:49  Pro Football   \n",
              "1          0  2018-04-24 17:11:21       Unknown   \n",
              "2          0  2018-04-24 14:58:44       Unknown   \n",
              "3          0  2018-04-24 14:35:57        Europe   \n",
              "4          0  2018-04-24 14:21:21        Canada   \n",
              "\n",
              "                                             snippet              source  \\\n",
              "0  “I understand that they could meet with us, pa...  The New York Times   \n",
              "1  The agency plans to publish a new regulation T...  The New York Times   \n",
              "2  What’s it like to eat at the second incarnatio...  The New York Times   \n",
              "3  President Trump welcomed President Emmanuel Ma...  The New York Times   \n",
              "4  Alek Minassian, 25, a resident of Toronto’s Ri...  The New York Times   \n",
              "\n",
              "  typeOfMaterial                                             webURL  \n",
              "0           News  https://www.nytimes.com/2018/04/24/sports/foot...  \n",
              "1           News  https://www.nytimes.com/2018/04/24/climate/epa...  \n",
              "2           News  https://www.nytimes.com/2018/04/24/dining/noma...  \n",
              "3           News  https://www.nytimes.com/2018/04/24/world/europ...  \n",
              "4           News  https://www.nytimes.com/2018/04/24/world/canad...  "
            ],
            "text/html": [
              "\n",
              "  <div id=\"df-f3d6ad7f-3e0a-48e9-bc19-2f416fb128d3\">\n",
              "    <div class=\"colab-df-container\">\n",
              "      <div>\n",
              "<style scoped>\n",
              "    .dataframe tbody tr th:only-of-type {\n",
              "        vertical-align: middle;\n",
              "    }\n",
              "\n",
              "    .dataframe tbody tr th {\n",
              "        vertical-align: top;\n",
              "    }\n",
              "\n",
              "    .dataframe thead th {\n",
              "        text-align: right;\n",
              "    }\n",
              "</style>\n",
              "<table border=\"1\" class=\"dataframe\">\n",
              "  <thead>\n",
              "    <tr style=\"text-align: right;\">\n",
              "      <th></th>\n",
              "      <th>articleID</th>\n",
              "      <th>articleWordCount</th>\n",
              "      <th>byline</th>\n",
              "      <th>documentType</th>\n",
              "      <th>headline</th>\n",
              "      <th>keywords</th>\n",
              "      <th>multimedia</th>\n",
              "      <th>newDesk</th>\n",
              "      <th>printPage</th>\n",
              "      <th>pubDate</th>\n",
              "      <th>sectionName</th>\n",
              "      <th>snippet</th>\n",
              "      <th>source</th>\n",
              "      <th>typeOfMaterial</th>\n",
              "      <th>webURL</th>\n",
              "    </tr>\n",
              "  </thead>\n",
              "  <tbody>\n",
              "    <tr>\n",
              "      <th>0</th>\n",
              "      <td>5adf6684068401528a2aa69b</td>\n",
              "      <td>781</td>\n",
              "      <td>By JOHN BRANCH</td>\n",
              "      <td>article</td>\n",
              "      <td>Former N.F.L. Cheerleaders’ Settlement Offer: ...</td>\n",
              "      <td>['Workplace Hazards and Violations', 'Football...</td>\n",
              "      <td>68</td>\n",
              "      <td>Sports</td>\n",
              "      <td>0</td>\n",
              "      <td>2018-04-24 17:16:49</td>\n",
              "      <td>Pro Football</td>\n",
              "      <td>“I understand that they could meet with us, pa...</td>\n",
              "      <td>The New York Times</td>\n",
              "      <td>News</td>\n",
              "      <td>https://www.nytimes.com/2018/04/24/sports/foot...</td>\n",
              "    </tr>\n",
              "    <tr>\n",
              "      <th>1</th>\n",
              "      <td>5adf653f068401528a2aa697</td>\n",
              "      <td>656</td>\n",
              "      <td>By LISA FRIEDMAN</td>\n",
              "      <td>article</td>\n",
              "      <td>E.P.A. to Unveil a New Rule. Its Effect: Less ...</td>\n",
              "      <td>['Environmental Protection Agency', 'Pruitt, S...</td>\n",
              "      <td>68</td>\n",
              "      <td>Climate</td>\n",
              "      <td>0</td>\n",
              "      <td>2018-04-24 17:11:21</td>\n",
              "      <td>Unknown</td>\n",
              "      <td>The agency plans to publish a new regulation T...</td>\n",
              "      <td>The New York Times</td>\n",
              "      <td>News</td>\n",
              "      <td>https://www.nytimes.com/2018/04/24/climate/epa...</td>\n",
              "    </tr>\n",
              "    <tr>\n",
              "      <th>2</th>\n",
              "      <td>5adf4626068401528a2aa628</td>\n",
              "      <td>2427</td>\n",
              "      <td>By PETE WELLS</td>\n",
              "      <td>article</td>\n",
              "      <td>The New Noma, Explained</td>\n",
              "      <td>['Restaurants', 'Noma (Copenhagen, Restaurant)...</td>\n",
              "      <td>66</td>\n",
              "      <td>Dining</td>\n",
              "      <td>0</td>\n",
              "      <td>2018-04-24 14:58:44</td>\n",
              "      <td>Unknown</td>\n",
              "      <td>What’s it like to eat at the second incarnatio...</td>\n",
              "      <td>The New York Times</td>\n",
              "      <td>News</td>\n",
              "      <td>https://www.nytimes.com/2018/04/24/dining/noma...</td>\n",
              "    </tr>\n",
              "    <tr>\n",
              "      <th>3</th>\n",
              "      <td>5adf40d2068401528a2aa619</td>\n",
              "      <td>626</td>\n",
              "      <td>By JULIE HIRSCHFELD DAVIS and PETER BAKER</td>\n",
              "      <td>article</td>\n",
              "      <td>Unknown</td>\n",
              "      <td>['Macron, Emmanuel (1977- )', 'Trump, Donald J...</td>\n",
              "      <td>68</td>\n",
              "      <td>Washington</td>\n",
              "      <td>0</td>\n",
              "      <td>2018-04-24 14:35:57</td>\n",
              "      <td>Europe</td>\n",
              "      <td>President Trump welcomed President Emmanuel Ma...</td>\n",
              "      <td>The New York Times</td>\n",
              "      <td>News</td>\n",
              "      <td>https://www.nytimes.com/2018/04/24/world/europ...</td>\n",
              "    </tr>\n",
              "    <tr>\n",
              "      <th>4</th>\n",
              "      <td>5adf3d64068401528a2aa60f</td>\n",
              "      <td>815</td>\n",
              "      <td>By IAN AUSTEN and DAN BILEFSKY</td>\n",
              "      <td>article</td>\n",
              "      <td>Unknown</td>\n",
              "      <td>['Toronto, Ontario, Attack (April, 2018)', 'Mu...</td>\n",
              "      <td>68</td>\n",
              "      <td>Foreign</td>\n",
              "      <td>0</td>\n",
              "      <td>2018-04-24 14:21:21</td>\n",
              "      <td>Canada</td>\n",
              "      <td>Alek Minassian, 25, a resident of Toronto’s Ri...</td>\n",
              "      <td>The New York Times</td>\n",
              "      <td>News</td>\n",
              "      <td>https://www.nytimes.com/2018/04/24/world/canad...</td>\n",
              "    </tr>\n",
              "  </tbody>\n",
              "</table>\n",
              "</div>\n",
              "      <button class=\"colab-df-convert\" onclick=\"convertToInteractive('df-f3d6ad7f-3e0a-48e9-bc19-2f416fb128d3')\"\n",
              "              title=\"Convert this dataframe to an interactive table.\"\n",
              "              style=\"display:none;\">\n",
              "        \n",
              "  <svg xmlns=\"http://www.w3.org/2000/svg\" height=\"24px\"viewBox=\"0 0 24 24\"\n",
              "       width=\"24px\">\n",
              "    <path d=\"M0 0h24v24H0V0z\" fill=\"none\"/>\n",
              "    <path d=\"M18.56 5.44l.94 2.06.94-2.06 2.06-.94-2.06-.94-.94-2.06-.94 2.06-2.06.94zm-11 1L8.5 8.5l.94-2.06 2.06-.94-2.06-.94L8.5 2.5l-.94 2.06-2.06.94zm10 10l.94 2.06.94-2.06 2.06-.94-2.06-.94-.94-2.06-.94 2.06-2.06.94z\"/><path d=\"M17.41 7.96l-1.37-1.37c-.4-.4-.92-.59-1.43-.59-.52 0-1.04.2-1.43.59L10.3 9.45l-7.72 7.72c-.78.78-.78 2.05 0 2.83L4 21.41c.39.39.9.59 1.41.59.51 0 1.02-.2 1.41-.59l7.78-7.78 2.81-2.81c.8-.78.8-2.07 0-2.86zM5.41 20L4 18.59l7.72-7.72 1.47 1.35L5.41 20z\"/>\n",
              "  </svg>\n",
              "      </button>\n",
              "      \n",
              "  <style>\n",
              "    .colab-df-container {\n",
              "      display:flex;\n",
              "      flex-wrap:wrap;\n",
              "      gap: 12px;\n",
              "    }\n",
              "\n",
              "    .colab-df-convert {\n",
              "      background-color: #E8F0FE;\n",
              "      border: none;\n",
              "      border-radius: 50%;\n",
              "      cursor: pointer;\n",
              "      display: none;\n",
              "      fill: #1967D2;\n",
              "      height: 32px;\n",
              "      padding: 0 0 0 0;\n",
              "      width: 32px;\n",
              "    }\n",
              "\n",
              "    .colab-df-convert:hover {\n",
              "      background-color: #E2EBFA;\n",
              "      box-shadow: 0px 1px 2px rgba(60, 64, 67, 0.3), 0px 1px 3px 1px rgba(60, 64, 67, 0.15);\n",
              "      fill: #174EA6;\n",
              "    }\n",
              "\n",
              "    [theme=dark] .colab-df-convert {\n",
              "      background-color: #3B4455;\n",
              "      fill: #D2E3FC;\n",
              "    }\n",
              "\n",
              "    [theme=dark] .colab-df-convert:hover {\n",
              "      background-color: #434B5C;\n",
              "      box-shadow: 0px 1px 3px 1px rgba(0, 0, 0, 0.15);\n",
              "      filter: drop-shadow(0px 1px 2px rgba(0, 0, 0, 0.3));\n",
              "      fill: #FFFFFF;\n",
              "    }\n",
              "  </style>\n",
              "\n",
              "      <script>\n",
              "        const buttonEl =\n",
              "          document.querySelector('#df-f3d6ad7f-3e0a-48e9-bc19-2f416fb128d3 button.colab-df-convert');\n",
              "        buttonEl.style.display =\n",
              "          google.colab.kernel.accessAllowed ? 'block' : 'none';\n",
              "\n",
              "        async function convertToInteractive(key) {\n",
              "          const element = document.querySelector('#df-f3d6ad7f-3e0a-48e9-bc19-2f416fb128d3');\n",
              "          const dataTable =\n",
              "            await google.colab.kernel.invokeFunction('convertToInteractive',\n",
              "                                                     [key], {});\n",
              "          if (!dataTable) return;\n",
              "\n",
              "          const docLinkHtml = 'Like what you see? Visit the ' +\n",
              "            '<a target=\"_blank\" href=https://colab.research.google.com/notebooks/data_table.ipynb>data table notebook</a>'\n",
              "            + ' to learn more about interactive tables.';\n",
              "          element.innerHTML = '';\n",
              "          dataTable['output_type'] = 'display_data';\n",
              "          await google.colab.output.renderOutput(dataTable, element);\n",
              "          const docLink = document.createElement('div');\n",
              "          docLink.innerHTML = docLinkHtml;\n",
              "          element.appendChild(docLink);\n",
              "        }\n",
              "      </script>\n",
              "    </div>\n",
              "  </div>\n",
              "  "
            ]
          },
          "metadata": {},
          "execution_count": 6
        }
      ]
    },
    {
      "cell_type": "code",
      "source": [
        "print('열의 개수: ',len(df.columns))\n",
        "print(df.columns)"
      ],
      "metadata": {
        "colab": {
          "base_uri": "https://localhost:8080/"
        },
        "id": "ZzRZwLBngW5A",
        "outputId": "65fa793a-1d9d-4cdd-a5e6-862053a755cb"
      },
      "execution_count": 7,
      "outputs": [
        {
          "output_type": "stream",
          "name": "stdout",
          "text": [
            "열의 개수:  15\n",
            "Index(['articleID', 'articleWordCount', 'byline', 'documentType', 'headline',\n",
            "       'keywords', 'multimedia', 'newDesk', 'printPage', 'pubDate',\n",
            "       'sectionName', 'snippet', 'source', 'typeOfMaterial', 'webURL'],\n",
            "      dtype='object')\n"
          ]
        }
      ]
    },
    {
      "cell_type": "code",
      "source": [
        "# null값 확인하기\n",
        "print(df['headline'].isnull().values.any())"
      ],
      "metadata": {
        "colab": {
          "base_uri": "https://localhost:8080/"
        },
        "id": "XoYPjk00gYes",
        "outputId": "3d23b826-db72-4072-ff7a-de4063676512"
      },
      "execution_count": 8,
      "outputs": [
        {
          "output_type": "stream",
          "name": "stdout",
          "text": [
            "False\n"
          ]
        }
      ]
    },
    {
      "cell_type": "code",
      "source": [
        "headline = []\n",
        "# 헤드라인의 값들을 리스트로 저장\n",
        "headline.extend(list(df.headline.values)) \n",
        "headline[:5]"
      ],
      "metadata": {
        "colab": {
          "base_uri": "https://localhost:8080/"
        },
        "id": "JlR7Qh5wgeVP",
        "outputId": "81947770-1771-4782-d030-639026b80202"
      },
      "execution_count": 9,
      "outputs": [
        {
          "output_type": "execute_result",
          "data": {
            "text/plain": [
              "['Former N.F.L. Cheerleaders’ Settlement Offer: $1 and a Meeting With Goodell',\n",
              " 'E.P.A. to Unveil a New Rule. Its Effect: Less Science in Policymaking.',\n",
              " 'The New Noma, Explained',\n",
              " 'Unknown',\n",
              " 'Unknown']"
            ]
          },
          "metadata": {},
          "execution_count": 9
        }
      ]
    },
    {
      "cell_type": "code",
      "source": [
        "print('총 샘플의 개수 : {}'.format(len(headline)))"
      ],
      "metadata": {
        "colab": {
          "base_uri": "https://localhost:8080/"
        },
        "id": "uHYunpq6gmbH",
        "outputId": "ca75ce8b-c13f-4ca8-a8a1-7cb8c7bb0611"
      },
      "execution_count": 10,
      "outputs": [
        {
          "output_type": "stream",
          "name": "stdout",
          "text": [
            "총 샘플의 개수 : 1324\n"
          ]
        }
      ]
    },
    {
      "cell_type": "code",
      "source": [
        "headline = [word for word in headline if word != \"Unknown\"]\n",
        "print('노이즈값 제거 후 샘플의 개수 : {}'.format(len(headline)))"
      ],
      "metadata": {
        "colab": {
          "base_uri": "https://localhost:8080/"
        },
        "id": "oNyjN0mjgoKD",
        "outputId": "f3110c56-7570-4356-96bb-dd7a624f921a"
      },
      "execution_count": 11,
      "outputs": [
        {
          "output_type": "stream",
          "name": "stdout",
          "text": [
            "노이즈값 제거 후 샘플의 개수 : 1214\n"
          ]
        }
      ]
    },
    {
      "cell_type": "code",
      "source": [
        "headline[:5]"
      ],
      "metadata": {
        "colab": {
          "base_uri": "https://localhost:8080/"
        },
        "id": "O3tii7Ufgp2m",
        "outputId": "81edab4c-8204-4e10-c11c-6783953b8074"
      },
      "execution_count": 12,
      "outputs": [
        {
          "output_type": "execute_result",
          "data": {
            "text/plain": [
              "['Former N.F.L. Cheerleaders’ Settlement Offer: $1 and a Meeting With Goodell',\n",
              " 'E.P.A. to Unveil a New Rule. Its Effect: Less Science in Policymaking.',\n",
              " 'The New Noma, Explained',\n",
              " 'How a Bag of Texas Dirt  Became a Times Tradition',\n",
              " 'Is School a Place for Self-Expression?']"
            ]
          },
          "metadata": {},
          "execution_count": 12
        }
      ]
    },
    {
      "cell_type": "code",
      "source": [
        "def repreprocessing(raw_sentence):\n",
        "    preproceseed_sentence = raw_sentence.encode(\"utf8\").decode(\"ascii\",'ignore')\n",
        "    # 구두점 제거와 동시에 소문자화\n",
        "    return ''.join(word for word in preproceseed_sentence if word not in punctuation).lower()\n",
        "\n",
        "preprocessed_headline = [repreprocessing(x) for x in headline]\n",
        "preprocessed_headline[:5]"
      ],
      "metadata": {
        "colab": {
          "base_uri": "https://localhost:8080/"
        },
        "id": "P8FCwZxsgqua",
        "outputId": "3465a159-9a71-481b-c996-fc01345b4734"
      },
      "execution_count": 13,
      "outputs": [
        {
          "output_type": "execute_result",
          "data": {
            "text/plain": [
              "['former nfl cheerleaders settlement offer 1 and a meeting with goodell',\n",
              " 'epa to unveil a new rule its effect less science in policymaking',\n",
              " 'the new noma explained',\n",
              " 'how a bag of texas dirt  became a times tradition',\n",
              " 'is school a place for selfexpression']"
            ]
          },
          "metadata": {},
          "execution_count": 13
        }
      ]
    },
    {
      "cell_type": "code",
      "source": [
        "tokenizer = Tokenizer()\n",
        "tokenizer.fit_on_texts(preprocessed_headline)\n",
        "vocab_size = len(tokenizer.word_index) + 1\n",
        "print('단어 집합의 크기 : %d' % vocab_size)"
      ],
      "metadata": {
        "colab": {
          "base_uri": "https://localhost:8080/"
        },
        "id": "_5r0KDNygs_E",
        "outputId": "0508103c-ac9d-4d0c-b3cb-abe04d9eb391"
      },
      "execution_count": 14,
      "outputs": [
        {
          "output_type": "stream",
          "name": "stdout",
          "text": [
            "단어 집합의 크기 : 3494\n"
          ]
        }
      ]
    },
    {
      "cell_type": "code",
      "source": [
        "# 정수 인코딩하며 하나의 문장을 여러 줄로 분해하기 - train set 구성\n",
        "sequences = list()\n",
        "\n",
        "for sentence in preprocessed_headline:\n",
        "\n",
        "    # 각 샘플에 대한 정수 인코딩\n",
        "    encoded = tokenizer.texts_to_sequences([sentence])[0] \n",
        "    for i in range(1, len(encoded)):\n",
        "        sequence = encoded[:i+1]\n",
        "        sequences.append(sequence)\n",
        "\n",
        "sequences[:11]"
      ],
      "metadata": {
        "colab": {
          "base_uri": "https://localhost:8080/"
        },
        "id": "sAdVDMnhgvGh",
        "outputId": "b22a9788-21ac-46d9-d43d-7c9f12dcb464"
      },
      "execution_count": 15,
      "outputs": [
        {
          "output_type": "execute_result",
          "data": {
            "text/plain": [
              "[[99, 269],\n",
              " [99, 269, 371],\n",
              " [99, 269, 371, 1115],\n",
              " [99, 269, 371, 1115, 582],\n",
              " [99, 269, 371, 1115, 582, 52],\n",
              " [99, 269, 371, 1115, 582, 52, 7],\n",
              " [99, 269, 371, 1115, 582, 52, 7, 2],\n",
              " [99, 269, 371, 1115, 582, 52, 7, 2, 372],\n",
              " [99, 269, 371, 1115, 582, 52, 7, 2, 372, 10],\n",
              " [99, 269, 371, 1115, 582, 52, 7, 2, 372, 10, 1116],\n",
              " [100, 3]]"
            ]
          },
          "metadata": {},
          "execution_count": 15
        }
      ]
    },
    {
      "cell_type": "code",
      "source": [
        "index_to_word = {}\n",
        "for key, value in tokenizer.word_index.items(): # 인덱스를 단어로 바꾸기 위해 index_to_word를 생성\n",
        "    index_to_word[value] = key\n",
        "\n",
        "print('빈도수 상위 582번 단어 : {}'.format(index_to_word[582]))"
      ],
      "metadata": {
        "colab": {
          "base_uri": "https://localhost:8080/"
        },
        "id": "r0TnTvNAg6nh",
        "outputId": "3436ad95-5541-46e4-aa23-1dfe16178398"
      },
      "execution_count": 16,
      "outputs": [
        {
          "output_type": "stream",
          "name": "stdout",
          "text": [
            "빈도수 상위 582번 단어 : offer\n"
          ]
        }
      ]
    },
    {
      "cell_type": "code",
      "source": [
        "max_len = max(len(l) for l in sequences)\n",
        "print('샘플의 최대 길이 : {}'.format(max_len))"
      ],
      "metadata": {
        "colab": {
          "base_uri": "https://localhost:8080/"
        },
        "id": "8uzSwU0ChB9g",
        "outputId": "8a4547eb-ad71-40ba-9d7f-b40938ddfe5d"
      },
      "execution_count": 17,
      "outputs": [
        {
          "output_type": "stream",
          "name": "stdout",
          "text": [
            "샘플의 최대 길이 : 24\n"
          ]
        }
      ]
    },
    {
      "cell_type": "code",
      "source": [
        "# 패딩\n",
        "sequences = pad_sequences(sequences, maxlen=max_len, padding='pre')\n",
        "print(sequences[:3])"
      ],
      "metadata": {
        "colab": {
          "base_uri": "https://localhost:8080/"
        },
        "id": "RmEg8WBzhC1Q",
        "outputId": "bd2cbf26-dd25-4141-dd65-c20e933049ec"
      },
      "execution_count": 18,
      "outputs": [
        {
          "output_type": "stream",
          "name": "stdout",
          "text": [
            "[[   0    0    0    0    0    0    0    0    0    0    0    0    0    0\n",
            "     0    0    0    0    0    0    0    0   99  269]\n",
            " [   0    0    0    0    0    0    0    0    0    0    0    0    0    0\n",
            "     0    0    0    0    0    0    0   99  269  371]\n",
            " [   0    0    0    0    0    0    0    0    0    0    0    0    0    0\n",
            "     0    0    0    0    0    0   99  269  371 1115]]\n"
          ]
        }
      ]
    },
    {
      "cell_type": "code",
      "source": [
        "sequences = np.array(sequences)\n",
        "X = sequences[:,:-1]\n",
        "y = sequences[:,-1]\n",
        "\n",
        "print(X[:3])"
      ],
      "metadata": {
        "colab": {
          "base_uri": "https://localhost:8080/"
        },
        "id": "5W63hEcRhEN0",
        "outputId": "0b4740ad-85f3-4e28-cf03-cee59f058a39"
      },
      "execution_count": 19,
      "outputs": [
        {
          "output_type": "stream",
          "name": "stdout",
          "text": [
            "[[  0   0   0   0   0   0   0   0   0   0   0   0   0   0   0   0   0   0\n",
            "    0   0   0   0  99]\n",
            " [  0   0   0   0   0   0   0   0   0   0   0   0   0   0   0   0   0   0\n",
            "    0   0   0  99 269]\n",
            " [  0   0   0   0   0   0   0   0   0   0   0   0   0   0   0   0   0   0\n",
            "    0   0  99 269 371]]\n"
          ]
        }
      ]
    },
    {
      "cell_type": "code",
      "source": [
        "# 예측할 단어만 따로 빼서 label data로 사용\n",
        "print(y[:3])"
      ],
      "metadata": {
        "colab": {
          "base_uri": "https://localhost:8080/"
        },
        "id": "FI4OGmrAhKDP",
        "outputId": "378826b1-4bef-467e-ff69-2716a7c0c9dd"
      },
      "execution_count": 20,
      "outputs": [
        {
          "output_type": "stream",
          "name": "stdout",
          "text": [
            "[ 269  371 1115]\n"
          ]
        }
      ]
    },
    {
      "cell_type": "code",
      "source": [
        "# 레이블 데이터 원-핫 인코딩하기\n",
        "y = to_categorical(y, num_classes=vocab_size)"
      ],
      "metadata": {
        "id": "sow_oZlRhW0z"
      },
      "execution_count": 21,
      "outputs": []
    },
    {
      "cell_type": "code",
      "source": [
        "from tensorflow.keras.models import Sequential\n",
        "from tensorflow.keras.layers import Embedding, Dense, LSTM"
      ],
      "metadata": {
        "id": "QHAQYsXZhc1m"
      },
      "execution_count": 22,
      "outputs": []
    },
    {
      "cell_type": "code",
      "source": [
        "# 모델 설계\n",
        "embedding_dim = 10\n",
        "hidden_units = 128\n",
        "\n",
        "model = Sequential()\n",
        "model.add(Embedding(vocab_size, embedding_dim))\n",
        "model.add(LSTM(hidden_units))\n",
        "model.add(Dense(vocab_size, activation='softmax'))\n",
        "model.compile(loss='categorical_crossentropy', optimizer='adam', metrics=['accuracy'])\n",
        "model.fit(X, y, epochs=200, verbose=2)"
      ],
      "metadata": {
        "colab": {
          "base_uri": "https://localhost:8080/"
        },
        "id": "1AQil0mvheGo",
        "outputId": "7aa272f2-045f-414f-ef09-ca59a44a26df"
      },
      "execution_count": 23,
      "outputs": [
        {
          "output_type": "stream",
          "name": "stdout",
          "text": [
            "Epoch 1/200\n",
            "244/244 - 9s - loss: 7.6274 - accuracy: 0.0302 - 9s/epoch - 35ms/step\n",
            "Epoch 2/200\n",
            "244/244 - 7s - loss: 7.1090 - accuracy: 0.0286 - 7s/epoch - 28ms/step\n",
            "Epoch 3/200\n",
            "244/244 - 8s - loss: 6.9721 - accuracy: 0.0341 - 8s/epoch - 31ms/step\n",
            "Epoch 4/200\n",
            "244/244 - 7s - loss: 6.8397 - accuracy: 0.0419 - 7s/epoch - 31ms/step\n",
            "Epoch 5/200\n",
            "244/244 - 7s - loss: 6.6770 - accuracy: 0.0452 - 7s/epoch - 30ms/step\n",
            "Epoch 6/200\n",
            "244/244 - 10s - loss: 6.4975 - accuracy: 0.0513 - 10s/epoch - 40ms/step\n",
            "Epoch 7/200\n",
            "244/244 - 10s - loss: 6.2946 - accuracy: 0.0525 - 10s/epoch - 39ms/step\n",
            "Epoch 8/200\n",
            "244/244 - 6s - loss: 6.0932 - accuracy: 0.0604 - 6s/epoch - 26ms/step\n",
            "Epoch 9/200\n",
            "244/244 - 6s - loss: 5.8961 - accuracy: 0.0656 - 6s/epoch - 26ms/step\n",
            "Epoch 10/200\n",
            "244/244 - 6s - loss: 5.7128 - accuracy: 0.0677 - 6s/epoch - 25ms/step\n",
            "Epoch 11/200\n",
            "244/244 - 6s - loss: 5.5427 - accuracy: 0.0739 - 6s/epoch - 25ms/step\n",
            "Epoch 12/200\n",
            "244/244 - 6s - loss: 5.3777 - accuracy: 0.0804 - 6s/epoch - 25ms/step\n",
            "Epoch 13/200\n",
            "244/244 - 6s - loss: 5.2256 - accuracy: 0.0843 - 6s/epoch - 25ms/step\n",
            "Epoch 14/200\n",
            "244/244 - 6s - loss: 5.0760 - accuracy: 0.0916 - 6s/epoch - 25ms/step\n",
            "Epoch 15/200\n",
            "244/244 - 7s - loss: 4.9333 - accuracy: 0.1023 - 7s/epoch - 30ms/step\n",
            "Epoch 16/200\n",
            "244/244 - 8s - loss: 4.7957 - accuracy: 0.1130 - 8s/epoch - 34ms/step\n",
            "Epoch 17/200\n",
            "244/244 - 8s - loss: 4.6633 - accuracy: 0.1235 - 8s/epoch - 31ms/step\n",
            "Epoch 18/200\n",
            "244/244 - 6s - loss: 4.5350 - accuracy: 0.1364 - 6s/epoch - 26ms/step\n",
            "Epoch 19/200\n",
            "244/244 - 6s - loss: 4.4116 - accuracy: 0.1515 - 6s/epoch - 26ms/step\n",
            "Epoch 20/200\n",
            "244/244 - 6s - loss: 4.2902 - accuracy: 0.1679 - 6s/epoch - 26ms/step\n",
            "Epoch 21/200\n",
            "244/244 - 6s - loss: 4.1742 - accuracy: 0.1803 - 6s/epoch - 26ms/step\n",
            "Epoch 22/200\n",
            "244/244 - 6s - loss: 4.0634 - accuracy: 0.2018 - 6s/epoch - 26ms/step\n",
            "Epoch 23/200\n",
            "244/244 - 6s - loss: 3.9538 - accuracy: 0.2174 - 6s/epoch - 26ms/step\n",
            "Epoch 24/200\n",
            "244/244 - 6s - loss: 3.8485 - accuracy: 0.2380 - 6s/epoch - 26ms/step\n",
            "Epoch 25/200\n",
            "244/244 - 8s - loss: 3.7471 - accuracy: 0.2570 - 8s/epoch - 31ms/step\n",
            "Epoch 26/200\n",
            "244/244 - 6s - loss: 3.6489 - accuracy: 0.2740 - 6s/epoch - 26ms/step\n",
            "Epoch 27/200\n",
            "244/244 - 6s - loss: 3.5540 - accuracy: 0.2894 - 6s/epoch - 26ms/step\n",
            "Epoch 28/200\n",
            "244/244 - 6s - loss: 3.4635 - accuracy: 0.3049 - 6s/epoch - 26ms/step\n",
            "Epoch 29/200\n",
            "244/244 - 7s - loss: 3.3762 - accuracy: 0.3195 - 7s/epoch - 28ms/step\n",
            "Epoch 30/200\n",
            "244/244 - 7s - loss: 3.2901 - accuracy: 0.3356 - 7s/epoch - 27ms/step\n",
            "Epoch 31/200\n",
            "244/244 - 7s - loss: 3.2082 - accuracy: 0.3524 - 7s/epoch - 27ms/step\n",
            "Epoch 32/200\n",
            "244/244 - 6s - loss: 3.1262 - accuracy: 0.3674 - 6s/epoch - 26ms/step\n",
            "Epoch 33/200\n",
            "244/244 - 6s - loss: 3.0538 - accuracy: 0.3800 - 6s/epoch - 26ms/step\n",
            "Epoch 34/200\n",
            "244/244 - 6s - loss: 2.9789 - accuracy: 0.3929 - 6s/epoch - 26ms/step\n",
            "Epoch 35/200\n",
            "244/244 - 6s - loss: 2.9085 - accuracy: 0.4064 - 6s/epoch - 26ms/step\n",
            "Epoch 36/200\n",
            "244/244 - 6s - loss: 2.8402 - accuracy: 0.4183 - 6s/epoch - 26ms/step\n",
            "Epoch 37/200\n",
            "244/244 - 6s - loss: 2.7738 - accuracy: 0.4278 - 6s/epoch - 26ms/step\n",
            "Epoch 38/200\n",
            "244/244 - 6s - loss: 2.7097 - accuracy: 0.4450 - 6s/epoch - 26ms/step\n",
            "Epoch 39/200\n",
            "244/244 - 6s - loss: 2.6488 - accuracy: 0.4576 - 6s/epoch - 25ms/step\n",
            "Epoch 40/200\n",
            "244/244 - 6s - loss: 2.5922 - accuracy: 0.4646 - 6s/epoch - 25ms/step\n",
            "Epoch 41/200\n",
            "244/244 - 6s - loss: 2.5330 - accuracy: 0.4798 - 6s/epoch - 25ms/step\n",
            "Epoch 42/200\n",
            "244/244 - 6s - loss: 2.4766 - accuracy: 0.4884 - 6s/epoch - 25ms/step\n",
            "Epoch 43/200\n",
            "244/244 - 6s - loss: 2.4225 - accuracy: 0.4971 - 6s/epoch - 26ms/step\n",
            "Epoch 44/200\n",
            "244/244 - 6s - loss: 2.3707 - accuracy: 0.5102 - 6s/epoch - 26ms/step\n",
            "Epoch 45/200\n",
            "244/244 - 6s - loss: 2.3184 - accuracy: 0.5224 - 6s/epoch - 26ms/step\n",
            "Epoch 46/200\n",
            "244/244 - 6s - loss: 2.2710 - accuracy: 0.5283 - 6s/epoch - 26ms/step\n",
            "Epoch 47/200\n",
            "244/244 - 6s - loss: 2.2198 - accuracy: 0.5384 - 6s/epoch - 25ms/step\n",
            "Epoch 48/200\n",
            "244/244 - 6s - loss: 2.1726 - accuracy: 0.5535 - 6s/epoch - 26ms/step\n",
            "Epoch 49/200\n",
            "244/244 - 6s - loss: 2.1273 - accuracy: 0.5586 - 6s/epoch - 25ms/step\n",
            "Epoch 50/200\n",
            "244/244 - 6s - loss: 2.0817 - accuracy: 0.5690 - 6s/epoch - 26ms/step\n",
            "Epoch 51/200\n",
            "244/244 - 6s - loss: 2.0373 - accuracy: 0.5835 - 6s/epoch - 26ms/step\n",
            "Epoch 52/200\n",
            "244/244 - 6s - loss: 1.9930 - accuracy: 0.5884 - 6s/epoch - 26ms/step\n",
            "Epoch 53/200\n",
            "244/244 - 7s - loss: 1.9540 - accuracy: 0.5971 - 7s/epoch - 27ms/step\n",
            "Epoch 54/200\n",
            "244/244 - 7s - loss: 1.9089 - accuracy: 0.6045 - 7s/epoch - 28ms/step\n",
            "Epoch 55/200\n",
            "244/244 - 6s - loss: 1.8686 - accuracy: 0.6134 - 6s/epoch - 26ms/step\n",
            "Epoch 56/200\n",
            "244/244 - 6s - loss: 1.8300 - accuracy: 0.6236 - 6s/epoch - 26ms/step\n",
            "Epoch 57/200\n",
            "244/244 - 6s - loss: 1.7904 - accuracy: 0.6312 - 6s/epoch - 26ms/step\n",
            "Epoch 58/200\n",
            "244/244 - 6s - loss: 1.7511 - accuracy: 0.6398 - 6s/epoch - 26ms/step\n",
            "Epoch 59/200\n",
            "244/244 - 6s - loss: 1.7128 - accuracy: 0.6495 - 6s/epoch - 25ms/step\n",
            "Epoch 60/200\n",
            "244/244 - 6s - loss: 1.6742 - accuracy: 0.6563 - 6s/epoch - 26ms/step\n",
            "Epoch 61/200\n",
            "244/244 - 6s - loss: 1.6432 - accuracy: 0.6687 - 6s/epoch - 26ms/step\n",
            "Epoch 62/200\n",
            "244/244 - 6s - loss: 1.6046 - accuracy: 0.6726 - 6s/epoch - 26ms/step\n",
            "Epoch 63/200\n",
            "244/244 - 6s - loss: 1.5692 - accuracy: 0.6791 - 6s/epoch - 26ms/step\n",
            "Epoch 64/200\n",
            "244/244 - 6s - loss: 1.5339 - accuracy: 0.6917 - 6s/epoch - 26ms/step\n",
            "Epoch 65/200\n",
            "244/244 - 6s - loss: 1.5024 - accuracy: 0.6958 - 6s/epoch - 25ms/step\n",
            "Epoch 66/200\n",
            "244/244 - 6s - loss: 1.4679 - accuracy: 0.7005 - 6s/epoch - 26ms/step\n",
            "Epoch 67/200\n",
            "244/244 - 6s - loss: 1.4359 - accuracy: 0.7079 - 6s/epoch - 26ms/step\n",
            "Epoch 68/200\n",
            "244/244 - 6s - loss: 1.4021 - accuracy: 0.7169 - 6s/epoch - 26ms/step\n",
            "Epoch 69/200\n",
            "244/244 - 6s - loss: 1.3728 - accuracy: 0.7246 - 6s/epoch - 26ms/step\n",
            "Epoch 70/200\n",
            "244/244 - 6s - loss: 1.3415 - accuracy: 0.7296 - 6s/epoch - 26ms/step\n",
            "Epoch 71/200\n",
            "244/244 - 6s - loss: 1.3102 - accuracy: 0.7369 - 6s/epoch - 26ms/step\n",
            "Epoch 72/200\n",
            "244/244 - 6s - loss: 1.2787 - accuracy: 0.7434 - 6s/epoch - 25ms/step\n",
            "Epoch 73/200\n",
            "244/244 - 6s - loss: 1.2519 - accuracy: 0.7505 - 6s/epoch - 26ms/step\n",
            "Epoch 74/200\n",
            "244/244 - 6s - loss: 1.2229 - accuracy: 0.7559 - 6s/epoch - 26ms/step\n",
            "Epoch 75/200\n",
            "244/244 - 6s - loss: 1.1961 - accuracy: 0.7611 - 6s/epoch - 26ms/step\n",
            "Epoch 76/200\n",
            "244/244 - 6s - loss: 1.1665 - accuracy: 0.7661 - 6s/epoch - 25ms/step\n",
            "Epoch 77/200\n",
            "244/244 - 6s - loss: 1.1421 - accuracy: 0.7719 - 6s/epoch - 27ms/step\n",
            "Epoch 78/200\n",
            "244/244 - 7s - loss: 1.1146 - accuracy: 0.7773 - 7s/epoch - 27ms/step\n",
            "Epoch 79/200\n",
            "244/244 - 6s - loss: 1.0883 - accuracy: 0.7848 - 6s/epoch - 25ms/step\n",
            "Epoch 80/200\n",
            "244/244 - 6s - loss: 1.0635 - accuracy: 0.7875 - 6s/epoch - 25ms/step\n",
            "Epoch 81/200\n",
            "244/244 - 6s - loss: 1.0383 - accuracy: 0.7950 - 6s/epoch - 26ms/step\n",
            "Epoch 82/200\n",
            "244/244 - 6s - loss: 1.0162 - accuracy: 0.7982 - 6s/epoch - 25ms/step\n",
            "Epoch 83/200\n",
            "244/244 - 6s - loss: 0.9936 - accuracy: 0.8032 - 6s/epoch - 25ms/step\n",
            "Epoch 84/200\n",
            "244/244 - 6s - loss: 0.9714 - accuracy: 0.8088 - 6s/epoch - 25ms/step\n",
            "Epoch 85/200\n",
            "244/244 - 6s - loss: 0.9461 - accuracy: 0.8140 - 6s/epoch - 25ms/step\n",
            "Epoch 86/200\n",
            "244/244 - 6s - loss: 0.9266 - accuracy: 0.8142 - 6s/epoch - 25ms/step\n",
            "Epoch 87/200\n",
            "244/244 - 6s - loss: 0.9057 - accuracy: 0.8202 - 6s/epoch - 25ms/step\n",
            "Epoch 88/200\n",
            "244/244 - 6s - loss: 0.8850 - accuracy: 0.8243 - 6s/epoch - 25ms/step\n",
            "Epoch 89/200\n",
            "244/244 - 6s - loss: 0.8647 - accuracy: 0.8267 - 6s/epoch - 26ms/step\n",
            "Epoch 90/200\n",
            "244/244 - 6s - loss: 0.8462 - accuracy: 0.8324 - 6s/epoch - 25ms/step\n",
            "Epoch 91/200\n",
            "244/244 - 6s - loss: 0.8263 - accuracy: 0.8362 - 6s/epoch - 26ms/step\n",
            "Epoch 92/200\n",
            "244/244 - 6s - loss: 0.8073 - accuracy: 0.8388 - 6s/epoch - 25ms/step\n",
            "Epoch 93/200\n",
            "244/244 - 6s - loss: 0.7887 - accuracy: 0.8420 - 6s/epoch - 26ms/step\n",
            "Epoch 94/200\n",
            "244/244 - 6s - loss: 0.7735 - accuracy: 0.8498 - 6s/epoch - 26ms/step\n",
            "Epoch 95/200\n",
            "244/244 - 6s - loss: 0.7556 - accuracy: 0.8483 - 6s/epoch - 26ms/step\n",
            "Epoch 96/200\n",
            "244/244 - 6s - loss: 0.7398 - accuracy: 0.8539 - 6s/epoch - 25ms/step\n",
            "Epoch 97/200\n",
            "244/244 - 6s - loss: 0.7250 - accuracy: 0.8556 - 6s/epoch - 25ms/step\n",
            "Epoch 98/200\n",
            "244/244 - 6s - loss: 0.7081 - accuracy: 0.8585 - 6s/epoch - 25ms/step\n",
            "Epoch 99/200\n",
            "244/244 - 6s - loss: 0.6970 - accuracy: 0.8606 - 6s/epoch - 26ms/step\n",
            "Epoch 100/200\n",
            "244/244 - 6s - loss: 0.6815 - accuracy: 0.8630 - 6s/epoch - 26ms/step\n",
            "Epoch 101/200\n",
            "244/244 - 6s - loss: 0.6631 - accuracy: 0.8686 - 6s/epoch - 25ms/step\n",
            "Epoch 102/200\n",
            "244/244 - 7s - loss: 0.6493 - accuracy: 0.8693 - 7s/epoch - 29ms/step\n",
            "Epoch 103/200\n",
            "244/244 - 6s - loss: 0.6358 - accuracy: 0.8702 - 6s/epoch - 25ms/step\n",
            "Epoch 104/200\n",
            "244/244 - 6s - loss: 0.6216 - accuracy: 0.8740 - 6s/epoch - 25ms/step\n",
            "Epoch 105/200\n",
            "244/244 - 6s - loss: 0.6101 - accuracy: 0.8776 - 6s/epoch - 25ms/step\n",
            "Epoch 106/200\n",
            "244/244 - 6s - loss: 0.5979 - accuracy: 0.8816 - 6s/epoch - 25ms/step\n",
            "Epoch 107/200\n",
            "244/244 - 6s - loss: 0.5887 - accuracy: 0.8809 - 6s/epoch - 26ms/step\n",
            "Epoch 108/200\n",
            "244/244 - 6s - loss: 0.5773 - accuracy: 0.8826 - 6s/epoch - 26ms/step\n",
            "Epoch 109/200\n",
            "244/244 - 6s - loss: 0.5632 - accuracy: 0.8854 - 6s/epoch - 26ms/step\n",
            "Epoch 110/200\n",
            "244/244 - 6s - loss: 0.5519 - accuracy: 0.8877 - 6s/epoch - 26ms/step\n",
            "Epoch 111/200\n",
            "244/244 - 6s - loss: 0.5418 - accuracy: 0.8897 - 6s/epoch - 26ms/step\n",
            "Epoch 112/200\n",
            "244/244 - 6s - loss: 0.5311 - accuracy: 0.8900 - 6s/epoch - 25ms/step\n",
            "Epoch 113/200\n",
            "244/244 - 6s - loss: 0.5200 - accuracy: 0.8944 - 6s/epoch - 25ms/step\n",
            "Epoch 114/200\n",
            "244/244 - 6s - loss: 0.5107 - accuracy: 0.8948 - 6s/epoch - 25ms/step\n",
            "Epoch 115/200\n",
            "244/244 - 6s - loss: 0.5008 - accuracy: 0.8985 - 6s/epoch - 25ms/step\n",
            "Epoch 116/200\n",
            "244/244 - 6s - loss: 0.4964 - accuracy: 0.8965 - 6s/epoch - 25ms/step\n",
            "Epoch 117/200\n",
            "244/244 - 6s - loss: 0.4887 - accuracy: 0.8963 - 6s/epoch - 25ms/step\n",
            "Epoch 118/200\n",
            "244/244 - 6s - loss: 0.4774 - accuracy: 0.8982 - 6s/epoch - 25ms/step\n",
            "Epoch 119/200\n",
            "244/244 - 6s - loss: 0.4664 - accuracy: 0.9014 - 6s/epoch - 25ms/step\n",
            "Epoch 120/200\n",
            "244/244 - 6s - loss: 0.4566 - accuracy: 0.9014 - 6s/epoch - 25ms/step\n",
            "Epoch 121/200\n",
            "244/244 - 6s - loss: 0.4513 - accuracy: 0.9027 - 6s/epoch - 25ms/step\n",
            "Epoch 122/200\n",
            "244/244 - 6s - loss: 0.4409 - accuracy: 0.9039 - 6s/epoch - 25ms/step\n",
            "Epoch 123/200\n",
            "244/244 - 6s - loss: 0.4379 - accuracy: 0.9049 - 6s/epoch - 25ms/step\n",
            "Epoch 124/200\n",
            "244/244 - 6s - loss: 0.4638 - accuracy: 0.9029 - 6s/epoch - 25ms/step\n",
            "Epoch 125/200\n",
            "244/244 - 6s - loss: 0.4355 - accuracy: 0.9050 - 6s/epoch - 25ms/step\n",
            "Epoch 126/200\n",
            "244/244 - 7s - loss: 0.4157 - accuracy: 0.9091 - 7s/epoch - 29ms/step\n",
            "Epoch 127/200\n",
            "244/244 - 6s - loss: 0.4072 - accuracy: 0.9100 - 6s/epoch - 25ms/step\n",
            "Epoch 128/200\n",
            "244/244 - 6s - loss: 0.4009 - accuracy: 0.9094 - 6s/epoch - 25ms/step\n",
            "Epoch 129/200\n",
            "244/244 - 6s - loss: 0.3951 - accuracy: 0.9103 - 6s/epoch - 25ms/step\n",
            "Epoch 130/200\n",
            "244/244 - 6s - loss: 0.3907 - accuracy: 0.9116 - 6s/epoch - 25ms/step\n",
            "Epoch 131/200\n",
            "244/244 - 6s - loss: 0.3910 - accuracy: 0.9116 - 6s/epoch - 25ms/step\n",
            "Epoch 132/200\n",
            "244/244 - 6s - loss: 0.3822 - accuracy: 0.9118 - 6s/epoch - 25ms/step\n",
            "Epoch 133/200\n",
            "244/244 - 6s - loss: 0.3768 - accuracy: 0.9118 - 6s/epoch - 25ms/step\n",
            "Epoch 134/200\n",
            "244/244 - 6s - loss: 0.3711 - accuracy: 0.9127 - 6s/epoch - 25ms/step\n",
            "Epoch 135/200\n",
            "244/244 - 6s - loss: 0.3655 - accuracy: 0.9138 - 6s/epoch - 26ms/step\n",
            "Epoch 136/200\n",
            "244/244 - 6s - loss: 0.3606 - accuracy: 0.9143 - 6s/epoch - 25ms/step\n",
            "Epoch 137/200\n",
            "244/244 - 6s - loss: 0.3580 - accuracy: 0.9135 - 6s/epoch - 26ms/step\n",
            "Epoch 138/200\n",
            "244/244 - 6s - loss: 0.3528 - accuracy: 0.9132 - 6s/epoch - 25ms/step\n",
            "Epoch 139/200\n",
            "244/244 - 6s - loss: 0.3497 - accuracy: 0.9144 - 6s/epoch - 25ms/step\n",
            "Epoch 140/200\n",
            "244/244 - 6s - loss: 0.3522 - accuracy: 0.9139 - 6s/epoch - 25ms/step\n",
            "Epoch 141/200\n",
            "244/244 - 6s - loss: 0.3513 - accuracy: 0.9136 - 6s/epoch - 26ms/step\n",
            "Epoch 142/200\n",
            "244/244 - 6s - loss: 0.3437 - accuracy: 0.9155 - 6s/epoch - 25ms/step\n",
            "Epoch 143/200\n",
            "244/244 - 6s - loss: 0.3372 - accuracy: 0.9136 - 6s/epoch - 25ms/step\n",
            "Epoch 144/200\n",
            "244/244 - 6s - loss: 0.3314 - accuracy: 0.9153 - 6s/epoch - 25ms/step\n",
            "Epoch 145/200\n",
            "244/244 - 6s - loss: 0.3271 - accuracy: 0.9148 - 6s/epoch - 25ms/step\n",
            "Epoch 146/200\n",
            "244/244 - 6s - loss: 0.3245 - accuracy: 0.9161 - 6s/epoch - 25ms/step\n",
            "Epoch 147/200\n",
            "244/244 - 6s - loss: 0.3218 - accuracy: 0.9145 - 6s/epoch - 25ms/step\n",
            "Epoch 148/200\n",
            "244/244 - 6s - loss: 0.3192 - accuracy: 0.9166 - 6s/epoch - 26ms/step\n",
            "Epoch 149/200\n",
            "244/244 - 6s - loss: 0.3154 - accuracy: 0.9175 - 6s/epoch - 26ms/step\n",
            "Epoch 150/200\n",
            "244/244 - 7s - loss: 0.3140 - accuracy: 0.9164 - 7s/epoch - 29ms/step\n",
            "Epoch 151/200\n",
            "244/244 - 6s - loss: 0.3145 - accuracy: 0.9163 - 6s/epoch - 26ms/step\n",
            "Epoch 152/200\n",
            "244/244 - 6s - loss: 0.3143 - accuracy: 0.9161 - 6s/epoch - 26ms/step\n",
            "Epoch 153/200\n",
            "244/244 - 6s - loss: 0.3203 - accuracy: 0.9145 - 6s/epoch - 25ms/step\n",
            "Epoch 154/200\n",
            "244/244 - 6s - loss: 0.3119 - accuracy: 0.9166 - 6s/epoch - 26ms/step\n",
            "Epoch 155/200\n",
            "244/244 - 6s - loss: 0.3028 - accuracy: 0.9171 - 6s/epoch - 26ms/step\n",
            "Epoch 156/200\n",
            "244/244 - 6s - loss: 0.3008 - accuracy: 0.9164 - 6s/epoch - 25ms/step\n",
            "Epoch 157/200\n",
            "244/244 - 6s - loss: 0.2973 - accuracy: 0.9175 - 6s/epoch - 26ms/step\n",
            "Epoch 158/200\n",
            "244/244 - 6s - loss: 0.2967 - accuracy: 0.9150 - 6s/epoch - 25ms/step\n",
            "Epoch 159/200\n",
            "244/244 - 6s - loss: 0.2955 - accuracy: 0.9164 - 6s/epoch - 26ms/step\n",
            "Epoch 160/200\n",
            "244/244 - 6s - loss: 0.2931 - accuracy: 0.9167 - 6s/epoch - 25ms/step\n",
            "Epoch 161/200\n",
            "244/244 - 6s - loss: 0.2921 - accuracy: 0.9173 - 6s/epoch - 26ms/step\n",
            "Epoch 162/200\n",
            "244/244 - 6s - loss: 0.2988 - accuracy: 0.9171 - 6s/epoch - 25ms/step\n",
            "Epoch 163/200\n",
            "244/244 - 6s - loss: 0.3132 - accuracy: 0.9129 - 6s/epoch - 25ms/step\n",
            "Epoch 164/200\n",
            "244/244 - 6s - loss: 0.2993 - accuracy: 0.9168 - 6s/epoch - 26ms/step\n",
            "Epoch 165/200\n",
            "244/244 - 6s - loss: 0.2874 - accuracy: 0.9161 - 6s/epoch - 25ms/step\n",
            "Epoch 166/200\n",
            "244/244 - 6s - loss: 0.2856 - accuracy: 0.9163 - 6s/epoch - 26ms/step\n",
            "Epoch 167/200\n",
            "244/244 - 6s - loss: 0.2841 - accuracy: 0.9167 - 6s/epoch - 25ms/step\n",
            "Epoch 168/200\n",
            "244/244 - 6s - loss: 0.2832 - accuracy: 0.9159 - 6s/epoch - 25ms/step\n",
            "Epoch 169/200\n",
            "244/244 - 6s - loss: 0.2824 - accuracy: 0.9171 - 6s/epoch - 25ms/step\n",
            "Epoch 170/200\n",
            "244/244 - 6s - loss: 0.2819 - accuracy: 0.9150 - 6s/epoch - 26ms/step\n",
            "Epoch 171/200\n",
            "244/244 - 6s - loss: 0.2800 - accuracy: 0.9164 - 6s/epoch - 26ms/step\n",
            "Epoch 172/200\n",
            "244/244 - 6s - loss: 0.2798 - accuracy: 0.9162 - 6s/epoch - 25ms/step\n",
            "Epoch 173/200\n",
            "244/244 - 6s - loss: 0.2777 - accuracy: 0.9168 - 6s/epoch - 26ms/step\n",
            "Epoch 174/200\n",
            "244/244 - 7s - loss: 0.2782 - accuracy: 0.9166 - 7s/epoch - 29ms/step\n",
            "Epoch 175/200\n",
            "244/244 - 6s - loss: 0.2778 - accuracy: 0.9162 - 6s/epoch - 26ms/step\n",
            "Epoch 176/200\n",
            "244/244 - 6s - loss: 0.2780 - accuracy: 0.9163 - 6s/epoch - 26ms/step\n",
            "Epoch 177/200\n",
            "244/244 - 6s - loss: 0.2761 - accuracy: 0.9158 - 6s/epoch - 25ms/step\n",
            "Epoch 178/200\n",
            "244/244 - 6s - loss: 0.2757 - accuracy: 0.9162 - 6s/epoch - 26ms/step\n",
            "Epoch 179/200\n",
            "244/244 - 6s - loss: 0.2907 - accuracy: 0.9126 - 6s/epoch - 25ms/step\n",
            "Epoch 180/200\n",
            "244/244 - 6s - loss: 0.3076 - accuracy: 0.9108 - 6s/epoch - 25ms/step\n",
            "Epoch 181/200\n",
            "244/244 - 6s - loss: 0.2841 - accuracy: 0.9141 - 6s/epoch - 25ms/step\n",
            "Epoch 182/200\n",
            "244/244 - 6s - loss: 0.2731 - accuracy: 0.9167 - 6s/epoch - 25ms/step\n",
            "Epoch 183/200\n",
            "244/244 - 6s - loss: 0.2924 - accuracy: 0.9140 - 6s/epoch - 26ms/step\n",
            "Epoch 184/200\n",
            "244/244 - 6s - loss: 0.2950 - accuracy: 0.9148 - 6s/epoch - 25ms/step\n",
            "Epoch 185/200\n",
            "244/244 - 6s - loss: 0.2777 - accuracy: 0.9166 - 6s/epoch - 25ms/step\n",
            "Epoch 186/200\n",
            "244/244 - 6s - loss: 0.2721 - accuracy: 0.9168 - 6s/epoch - 25ms/step\n",
            "Epoch 187/200\n",
            "244/244 - 6s - loss: 0.2706 - accuracy: 0.9157 - 6s/epoch - 26ms/step\n",
            "Epoch 188/200\n",
            "244/244 - 6s - loss: 0.2690 - accuracy: 0.9166 - 6s/epoch - 26ms/step\n",
            "Epoch 189/200\n",
            "244/244 - 6s - loss: 0.2686 - accuracy: 0.9171 - 6s/epoch - 26ms/step\n",
            "Epoch 190/200\n",
            "244/244 - 6s - loss: 0.2675 - accuracy: 0.9158 - 6s/epoch - 25ms/step\n",
            "Epoch 191/200\n",
            "244/244 - 6s - loss: 0.2663 - accuracy: 0.9176 - 6s/epoch - 25ms/step\n",
            "Epoch 192/200\n",
            "244/244 - 6s - loss: 0.2674 - accuracy: 0.9161 - 6s/epoch - 25ms/step\n",
            "Epoch 193/200\n",
            "244/244 - 6s - loss: 0.2662 - accuracy: 0.9161 - 6s/epoch - 26ms/step\n",
            "Epoch 194/200\n",
            "244/244 - 6s - loss: 0.2661 - accuracy: 0.9163 - 6s/epoch - 25ms/step\n",
            "Epoch 195/200\n",
            "244/244 - 6s - loss: 0.2673 - accuracy: 0.9161 - 6s/epoch - 26ms/step\n",
            "Epoch 196/200\n",
            "244/244 - 6s - loss: 0.2648 - accuracy: 0.9168 - 6s/epoch - 25ms/step\n",
            "Epoch 197/200\n",
            "244/244 - 6s - loss: 0.2654 - accuracy: 0.9144 - 6s/epoch - 26ms/step\n",
            "Epoch 198/200\n",
            "244/244 - 7s - loss: 0.2663 - accuracy: 0.9157 - 7s/epoch - 29ms/step\n",
            "Epoch 199/200\n",
            "244/244 - 6s - loss: 0.2650 - accuracy: 0.9159 - 6s/epoch - 26ms/step\n",
            "Epoch 200/200\n",
            "244/244 - 6s - loss: 0.2647 - accuracy: 0.9149 - 6s/epoch - 26ms/step\n"
          ]
        },
        {
          "output_type": "execute_result",
          "data": {
            "text/plain": [
              "<keras.callbacks.History at 0x7f49b51f89d0>"
            ]
          },
          "metadata": {},
          "execution_count": 23
        }
      ]
    },
    {
      "cell_type": "code",
      "source": [
        "# 문장을 생성하는 함수\n",
        "def sentence_generation(model, tokenizer, current_word, n): # 모델, 토크나이저, 현재 단어, 반복할 횟수\n",
        "    init_word = current_word\n",
        "    sentence = ''\n",
        "\n",
        "    # n번 반복\n",
        "    for _ in range(n):\n",
        "        encoded = tokenizer.texts_to_sequences([current_word])[0]\n",
        "        encoded = pad_sequences([encoded], maxlen=max_len-1, padding='pre')\n",
        "\n",
        "        # 입력한 X(현재 단어)에 대해서 y를 예측하고 y(예측한 단어)를 result에 저장.\n",
        "        result = model.predict(encoded, verbose=0)\n",
        "        result = np.argmax(result, axis=1)\n",
        "\n",
        "        for word, index in tokenizer.word_index.items(): \n",
        "            # 만약 예측한 단어와 인덱스와 동일한 단어가 있다면\n",
        "            if index == result:\n",
        "                break\n",
        "\n",
        "        # 현재 단어 + ' ' + 예측 단어를 현재 단어로 변경\n",
        "        current_word = current_word + ' '  + word\n",
        "\n",
        "        # 예측 단어를 문장에 저장\n",
        "        sentence = sentence + ' ' + word\n",
        "\n",
        "    sentence = init_word + sentence\n",
        "    return sentence"
      ],
      "metadata": {
        "id": "Y2Nw91f8hiOi"
      },
      "execution_count": 24,
      "outputs": []
    },
    {
      "cell_type": "code",
      "source": [
        "# 임의의 단어 i에 대해 10개의 단어 추가 생성하기\n",
        "print(sentence_generation(model, tokenizer, 'i', 10))"
      ],
      "metadata": {
        "colab": {
          "base_uri": "https://localhost:8080/"
        },
        "id": "jKpmo33-hlHI",
        "outputId": "7a32579d-e06e-443d-dae6-cb661d61dc9f"
      },
      "execution_count": 25,
      "outputs": [
        {
          "output_type": "stream",
          "name": "stdout",
          "text": [
            "i cant jump ship from facebook yet russian carefully denied smart\n"
          ]
        }
      ]
    },
    {
      "cell_type": "code",
      "source": [
        "# 임의의 단어 how에 대해 10개의 단어 추가 생성하기\n",
        "print(sentence_generation(model, tokenizer, 'how', 10))"
      ],
      "metadata": {
        "colab": {
          "base_uri": "https://localhost:8080/"
        },
        "id": "5wsU6HGfhp2o",
        "outputId": "0259b630-5714-43a3-c014-2af59e799ac3"
      },
      "execution_count": 26,
      "outputs": [
        {
          "output_type": "stream",
          "name": "stdout",
          "text": [
            "how to make facebook more accountable are trump energy to think\n"
          ]
        }
      ]
    }
  ]
}